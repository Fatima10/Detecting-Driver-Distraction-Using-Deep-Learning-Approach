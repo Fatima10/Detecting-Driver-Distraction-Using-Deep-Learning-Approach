{
 "cells": [
  {
   "cell_type": "markdown",
   "metadata": {},
   "source": [
    "# IMPORTING THE LIBRARIES"
   ]
  },
  {
   "cell_type": "code",
   "execution_count": 1,
   "metadata": {},
   "outputs": [],
   "source": [
    "import os\n",
    "import pandas as pd\n",
    "import pickle\n",
    "import numpy as np\n",
    "import seaborn as sns\n",
    "from sklearn.datasets import load_files\n",
    "from keras.utils import np_utils\n",
    "import matplotlib.pyplot as plt\n",
    "from keras.layers import Conv2D, MaxPooling2D, GlobalAveragePooling2D\n",
    "from keras.layers import Dropout, Flatten, Dense\n",
    "from keras.models import Sequential\n",
    "from keras.utils.vis_utils import plot_model\n",
    "from keras.callbacks import ModelCheckpoint\n",
    "from keras.utils import to_categorical\n",
    "from sklearn.metrics import confusion_matrix\n",
    "from keras.preprocessing import image                  \n",
    "from tqdm import tqdm\n",
    "\n",
    "import seaborn as sns\n",
    "from sklearn.metrics import accuracy_score,precision_score,recall_score,f1_score"
   ]
  },
  {
   "cell_type": "code",
   "execution_count": 2,
   "metadata": {},
   "outputs": [],
   "source": [
    "# Pretty display for notebooks\n",
    "%matplotlib inline"
   ]
  },
  {
   "cell_type": "code",
   "execution_count": 3,
   "metadata": {
    "scrolled": true
   },
   "outputs": [
    {
     "name": "stderr",
     "output_type": "stream",
     "text": [
      "'ls' is not recognized as an internal or external command,\n",
      "operable program or batch file.\n"
     ]
    }
   ],
   "source": [
    "#!ls"
   ]
  },
  {
   "cell_type": "markdown",
   "metadata": {},
   "source": [
    "# Defining the train,test and model directories\n",
    "\n",
    "We will create the directories for train,test and model training paths if not present"
   ]
  },
  {
   "cell_type": "code",
   "execution_count": 18,
   "metadata": {},
   "outputs": [],
   "source": [
    "TEST_DIR = os.path.join(os.getcwd(),\"imgs\",\"test\")\n",
    "TRAIN_DIR = os.path.join(os.getcwd(),\"imgs\",\"train\")\n",
    "MODEL_PATH = os.path.join(os.getcwd(),\"model\",\"self_trained\")\n",
    "PICKLE_DIR = os.path.join(os.getcwd(),\"pickle_files\")\n",
    "CSV_DIR = os.path.join(os.getcwd(),\"csv_files\")"
   ]
  },
  {
   "cell_type": "code",
   "execution_count": 19,
   "metadata": {},
   "outputs": [],
   "source": [
    "if not os.path.exists(TEST_DIR):\n",
    "    print(\"Testing data does not exists\")\n",
    "if not os.path.exists(TRAIN_DIR):\n",
    "    print(\"Training data does not exists\")\n",
    "if not os.path.exists(MODEL_PATH):\n",
    "    print(\"Model path does not exists\")\n",
    "    os.makedirs(MODEL_PATH)\n",
    "    print(\"Model path created\")\n",
    "if not os.path.exists(PICKLE_DIR):\n",
    "    os.makedirs(PICKLE_DIR)\n",
    "if not os.path.exists(CSV_DIR):\n",
    "    os.makedirs(CSV_DIR)"
   ]
  },
  {
   "cell_type": "markdown",
   "metadata": {},
   "source": [
    "# Data Preparation"
   ]
  },
  {
   "cell_type": "markdown",
   "metadata": {},
   "source": [
    "We will create a csv file having the location of the files present for training and test images and their associated class if present so that it is easily traceable."
   ]
  },
  {
   "cell_type": "code",
   "execution_count": 20,
   "metadata": {},
   "outputs": [],
   "source": [
    "def create_csv(DATA_DIR,filename):\n",
    "    class_names = os.listdir(DATA_DIR)\n",
    "    data = list()\n",
    "    if(os.path.isdir(os.path.join(DATA_DIR,class_names[0]))):\n",
    "        for class_name in class_names:\n",
    "            file_names = os.listdir(os.path.join(DATA_DIR,class_name))\n",
    "            for file in file_names:\n",
    "                data.append({\n",
    "                    \"Filename\":os.path.join(DATA_DIR,class_name,file),\n",
    "                    \"ClassName\":class_name\n",
    "                })\n",
    "    else:\n",
    "        class_name = \"test\"\n",
    "        file_names = os.listdir(DATA_DIR)\n",
    "        for file in file_names:\n",
    "            data.append(({\n",
    "                \"FileName\":os.path.join(DATA_DIR,file),\n",
    "                \"ClassName\":class_name\n",
    "            }))\n",
    "    data = pd.DataFrame(data)\n",
    "    data.to_csv(os.path.join(os.getcwd(),\"csv_files\",filename),index=False)\n",
    "\n",
    "create_csv(TRAIN_DIR,\"train.csv\")\n",
    "create_csv(TEST_DIR,\"test.csv\")\n",
    "data_train = pd.read_csv(os.path.join(os.getcwd(),\"csv_files\",\"train.csv\"))\n",
    "data_test = pd.read_csv(os.path.join(os.getcwd(),\"csv_files\",\"test.csv\"))\n"
   ]
  },
  {
   "cell_type": "code",
   "execution_count": 21,
   "metadata": {
    "scrolled": false
   },
   "outputs": [
    {
     "name": "stdout",
     "output_type": "stream",
     "text": [
      "<class 'pandas.core.frame.DataFrame'>\n",
      "RangeIndex: 22424 entries, 0 to 22423\n",
      "Data columns (total 2 columns):\n",
      " #   Column     Non-Null Count  Dtype \n",
      "---  ------     --------------  ----- \n",
      " 0   Filename   22424 non-null  object\n",
      " 1   ClassName  22424 non-null  object\n",
      "dtypes: object(2)\n",
      "memory usage: 350.5+ KB\n"
     ]
    }
   ],
   "source": [
    "data_train.info()"
   ]
  },
  {
   "cell_type": "code",
   "execution_count": 22,
   "metadata": {
    "scrolled": false
   },
   "outputs": [
    {
     "data": {
      "text/plain": [
       "c0    2489\n",
       "c3    2346\n",
       "c4    2326\n",
       "c6    2325\n",
       "c2    2317\n",
       "c5    2312\n",
       "c1    2267\n",
       "c9    2129\n",
       "c7    2002\n",
       "c8    1911\n",
       "Name: ClassName, dtype: int64"
      ]
     },
     "execution_count": 22,
     "metadata": {},
     "output_type": "execute_result"
    }
   ],
   "source": [
    "data_train['ClassName'].value_counts()"
   ]
  },
  {
   "cell_type": "code",
   "execution_count": 23,
   "metadata": {
    "scrolled": true
   },
   "outputs": [
    {
     "data": {
      "text/html": [
       "<div>\n",
       "<style scoped>\n",
       "    .dataframe tbody tr th:only-of-type {\n",
       "        vertical-align: middle;\n",
       "    }\n",
       "\n",
       "    .dataframe tbody tr th {\n",
       "        vertical-align: top;\n",
       "    }\n",
       "\n",
       "    .dataframe thead th {\n",
       "        text-align: right;\n",
       "    }\n",
       "</style>\n",
       "<table border=\"1\" class=\"dataframe\">\n",
       "  <thead>\n",
       "    <tr style=\"text-align: right;\">\n",
       "      <th></th>\n",
       "      <th>Filename</th>\n",
       "      <th>ClassName</th>\n",
       "    </tr>\n",
       "  </thead>\n",
       "  <tbody>\n",
       "    <tr>\n",
       "      <th>count</th>\n",
       "      <td>22424</td>\n",
       "      <td>22424</td>\n",
       "    </tr>\n",
       "    <tr>\n",
       "      <th>unique</th>\n",
       "      <td>22424</td>\n",
       "      <td>10</td>\n",
       "    </tr>\n",
       "    <tr>\n",
       "      <th>top</th>\n",
       "      <td>C:\\Users\\hp\\Desktop\\car\\Distracted-Driver-Dete...</td>\n",
       "      <td>c0</td>\n",
       "    </tr>\n",
       "    <tr>\n",
       "      <th>freq</th>\n",
       "      <td>1</td>\n",
       "      <td>2489</td>\n",
       "    </tr>\n",
       "  </tbody>\n",
       "</table>\n",
       "</div>"
      ],
      "text/plain": [
       "                                                 Filename ClassName\n",
       "count                                               22424     22424\n",
       "unique                                              22424        10\n",
       "top     C:\\Users\\hp\\Desktop\\car\\Distracted-Driver-Dete...        c0\n",
       "freq                                                    1      2489"
      ]
     },
     "execution_count": 23,
     "metadata": {},
     "output_type": "execute_result"
    }
   ],
   "source": [
    "data_train.describe()"
   ]
  },
  {
   "cell_type": "code",
   "execution_count": 24,
   "metadata": {},
   "outputs": [
    {
     "data": {
      "image/png": "[encoded data removed]",
      "text/plain": [
       "<Figure size 1440x1080 with 1 Axes>"
      ]
     },
     "metadata": {
      "needs_background": "light"
     },
     "output_type": "display_data"
    }
   ],
   "source": [
    "\n",
    "\n",
    "nf = data_train['ClassName'].value_counts(sort=False)\n",
    "labels = data_train['ClassName'].value_counts(sort=False).index.tolist()\n",
    "y = np.array(nf)\n",
    "width = 1/1.5\n",
    "N = len(y)\n",
    "x = range(N)\n",
    "\n",
    "fig = plt.figure(figsize=(20,15))\n",
    "ay = fig.add_subplot(211)\n",
    "\n",
    "plt.xticks(x, labels, size=15)\n",
    "plt.yticks(size=15)\n",
    "\n",
    "ay.bar(x, y, width, color=\"blue\")\n",
    "\n",
    "plt.title('Bar Chart',size=25)\n",
    "plt.xlabel('classname',size=15)\n",
    "plt.ylabel('Count',size=15)\n",
    "\n",
    "plt.show()"
   ]
  },
  {
   "cell_type": "code",
   "execution_count": 25,
   "metadata": {},
   "outputs": [
    {
     "data": {
      "text/html": [
       "<div>\n",
       "<style scoped>\n",
       "    .dataframe tbody tr th:only-of-type {\n",
       "        vertical-align: middle;\n",
       "    }\n",
       "\n",
       "    .dataframe tbody tr th {\n",
       "        vertical-align: top;\n",
       "    }\n",
       "\n",
       "    .dataframe thead th {\n",
       "        text-align: right;\n",
       "    }\n",
       "</style>\n",
       "<table border=\"1\" class=\"dataframe\">\n",
       "  <thead>\n",
       "    <tr style=\"text-align: right;\">\n",
       "      <th></th>\n",
       "      <th>FileName</th>\n",
       "      <th>ClassName</th>\n",
       "    </tr>\n",
       "  </thead>\n",
       "  <tbody>\n",
       "    <tr>\n",
       "      <th>0</th>\n",
       "      <td>C:\\Users\\hp\\Desktop\\car\\Distracted-Driver-Dete...</td>\n",
       "      <td>test</td>\n",
       "    </tr>\n",
       "    <tr>\n",
       "      <th>1</th>\n",
       "      <td>C:\\Users\\hp\\Desktop\\car\\Distracted-Driver-Dete...</td>\n",
       "      <td>test</td>\n",
       "    </tr>\n",
       "    <tr>\n",
       "      <th>2</th>\n",
       "      <td>C:\\Users\\hp\\Desktop\\car\\Distracted-Driver-Dete...</td>\n",
       "      <td>test</td>\n",
       "    </tr>\n",
       "    <tr>\n",
       "      <th>3</th>\n",
       "      <td>C:\\Users\\hp\\Desktop\\car\\Distracted-Driver-Dete...</td>\n",
       "      <td>test</td>\n",
       "    </tr>\n",
       "    <tr>\n",
       "      <th>4</th>\n",
       "      <td>C:\\Users\\hp\\Desktop\\car\\Distracted-Driver-Dete...</td>\n",
       "      <td>test</td>\n",
       "    </tr>\n",
       "  </tbody>\n",
       "</table>\n",
       "</div>"
      ],
      "text/plain": [
       "                                            FileName ClassName\n",
       "0  C:\\Users\\hp\\Desktop\\car\\Distracted-Driver-Dete...      test\n",
       "1  C:\\Users\\hp\\Desktop\\car\\Distracted-Driver-Dete...      test\n",
       "2  C:\\Users\\hp\\Desktop\\car\\Distracted-Driver-Dete...      test\n",
       "3  C:\\Users\\hp\\Desktop\\car\\Distracted-Driver-Dete...      test\n",
       "4  C:\\Users\\hp\\Desktop\\car\\Distracted-Driver-Dete...      test"
      ]
     },
     "execution_count": 25,
     "metadata": {},
     "output_type": "execute_result"
    }
   ],
   "source": [
    "data_test.head()"
   ]
  },
  {
   "cell_type": "code",
   "execution_count": 26,
   "metadata": {},
   "outputs": [
    {
     "data": {
      "text/plain": [
       "(79726, 2)"
      ]
     },
     "execution_count": 26,
     "metadata": {},
     "output_type": "execute_result"
    }
   ],
   "source": [
    "data_test.shape"
   ]
  },
  {
   "cell_type": "markdown",
   "metadata": {},
   "source": [
    "## Observation:\n",
    "1. There are total 22424 training samples\n",
    "2. There are total 79726 training samples\n",
    "3. The training dataset is equally balanced to a great extent and hence we need not do any downsampling of the data"
   ]
  },
  {
   "cell_type": "markdown",
   "metadata": {},
   "source": [
    "## Converting into numerical values"
   ]
  },
  {
   "cell_type": "code",
   "execution_count": 27,
   "metadata": {},
   "outputs": [
    {
     "name": "stdout",
     "output_type": "stream",
     "text": [
      "{'c7': 0, 'c6': 1, 'c3': 2, 'c0': 3, 'c8': 4, 'c1': 5, 'c5': 6, 'c9': 7, 'c2': 8, 'c4': 9}\n"
     ]
    }
   ],
   "source": [
    "labels_list = list(set(data_train['ClassName'].values.tolist()))\n",
    "labels_id = {label_name:id for id,label_name in enumerate(labels_list)}\n",
    "print(labels_id)\n",
    "data_train['ClassName'].replace(labels_id,inplace=True)"
   ]
  },
  {
   "cell_type": "code",
   "execution_count": 28,
   "metadata": {},
   "outputs": [],
   "source": [
    "with open(os.path.join(os.getcwd(),\"pickle_files\",\"labels_list.pkl\"),\"wb\") as handle:\n",
    "    pickle.dump(labels_id,handle)"
   ]
  },
  {
   "cell_type": "code",
   "execution_count": 29,
   "metadata": {},
   "outputs": [
    {
     "name": "stdout",
     "output_type": "stream",
     "text": [
      "(22424, 10)\n"
     ]
    }
   ],
   "source": [
    "labels = to_categorical(data_train['ClassName'])\n",
    "print(labels.shape)"
   ]
  },
  {
   "cell_type": "markdown",
   "metadata": {},
   "source": [
    "## Splitting into Train and Test sets"
   ]
  },
  {
   "cell_type": "code",
   "execution_count": 30,
   "metadata": {},
   "outputs": [],
   "source": [
    "from sklearn.model_selection import train_test_split\n",
    "\n",
    "xtrain,xtest,ytrain,ytest = train_test_split(data_train.iloc[:,0],labels,test_size = 0.2,random_state=42)"
   ]
  },
  {
   "cell_type": "markdown",
   "metadata": {},
   "source": [
    "### Converting into 64*64 images \n",
    "You can substitute 64,64 to 224,224 for better results only if ram is >32gb"
   ]
  },
  {
   "cell_type": "code",
   "execution_count": 31,
   "metadata": {},
   "outputs": [],
   "source": [
    "\n",
    "def path_to_tensor(img_path):\n",
    "    # loads RGB image as PIL.Image.Image type\n",
    "    img = image.load_img(img_path, target_size=(128, 128))\n",
    "    # convert PIL.Image.Image type to 3D tensor with shape (224, 224, 3)\n",
    "    x = image.img_to_array(img)\n",
    "    # convert 3D tensor to 4D tensor with shape (1, 224, 224, 3) and return 4D tensor\n",
    "    return np.expand_dims(x, axis=0)\n",
    "\n",
    "def paths_to_tensor(img_paths):\n",
    "    list_of_tensors = [path_to_tensor(img_path) for img_path in tqdm(img_paths)]\n",
    "    return np.vstack(list_of_tensors)"
   ]
  },
  {
   "cell_type": "code",
   "execution_count": 32,
   "metadata": {},
   "outputs": [
    {
     "name": "stderr",
     "output_type": "stream",
     "text": [
      "100%|██████████| 17939/17939 [03:35<00:00, 83.22it/s]\n"
     ]
    }
   ],
   "source": [
    "\n",
    "from PIL import ImageFile                            \n",
    "ImageFile.LOAD_TRUNCATED_IMAGES = True                 \n",
    "\n",
    "# pre-process the data for Keras\n",
    "train_tensors = paths_to_tensor(xtrain).astype('float32')/255 - 0.5\n"
   ]
  },
  {
   "cell_type": "code",
   "execution_count": 33,
   "metadata": {},
   "outputs": [
    {
     "name": "stderr",
     "output_type": "stream",
     "text": [
      "100%|██████████| 4485/4485 [00:42<00:00, 106.33it/s]\n"
     ]
    }
   ],
   "source": [
    "valid_tensors = paths_to_tensor(xtest).astype('float32')/255 - 0.5\n"
   ]
  },
  {
   "cell_type": "code",
   "execution_count": 34,
   "metadata": {},
   "outputs": [],
   "source": [
    "##takes too much ram \n",
    "## run this if your ram is greater than 16gb \n",
    "# test_tensors = paths_to_tensor(data_test.iloc[:,0]).astype('float32')/255 - 0.5 "
   ]
  },
  {
   "cell_type": "markdown",
   "metadata": {},
   "source": [
    "# Defining the Model"
   ]
  },
  {
   "cell_type": "code",
   "execution_count": 35,
   "metadata": {},
   "outputs": [
    {
     "name": "stdout",
     "output_type": "stream",
     "text": [
      "Model: \"sequential\"\n",
      "_________________________________________________________________\n",
      "Layer (type)                 Output Shape              Param #   \n",
      "=================================================================\n",
      "conv2d (Conv2D)              (None, 128, 128, 64)      832       \n",
      "_________________________________________________________________\n",
      "max_pooling2d (MaxPooling2D) (None, 64, 64, 64)        0         \n",
      "_________________________________________________________________\n",
      "conv2d_1 (Conv2D)            (None, 64, 64, 128)       32896     \n",
      "_________________________________________________________________\n",
      "max_pooling2d_1 (MaxPooling2 (None, 32, 32, 128)       0         \n",
      "_________________________________________________________________\n",
      "conv2d_2 (Conv2D)            (None, 32, 32, 256)       131328    \n",
      "_________________________________________________________________\n",
      "max_pooling2d_2 (MaxPooling2 (None, 16, 16, 256)       0         \n",
      "_________________________________________________________________\n",
      "conv2d_3 (Conv2D)            (None, 16, 16, 512)       524800    \n",
      "_________________________________________________________________\n",
      "max_pooling2d_3 (MaxPooling2 (None, 8, 8, 512)         0         \n",
      "_________________________________________________________________\n",
      "dropout (Dropout)            (None, 8, 8, 512)         0         \n",
      "_________________________________________________________________\n",
      "flatten (Flatten)            (None, 32768)             0         \n",
      "_________________________________________________________________\n",
      "dense (Dense)                (None, 500)               16384500  \n",
      "_________________________________________________________________\n",
      "dropout_1 (Dropout)          (None, 500)               0         \n",
      "_________________________________________________________________\n",
      "dense_1 (Dense)              (None, 10)                5010      \n",
      "=================================================================\n",
      "Total params: 17,079,366\n",
      "Trainable params: 17,079,366\n",
      "Non-trainable params: 0\n",
      "_________________________________________________________________\n"
     ]
    }
   ],
   "source": [
    "model = Sequential()\n",
    "\n",
    "model.add(Conv2D(filters=64, kernel_size=2, padding='same', activation='relu', input_shape=(128,128,3), kernel_initializer='glorot_normal'))\n",
    "model.add(MaxPooling2D(pool_size=2))\n",
    "model.add(Conv2D(filters=128, kernel_size=2, padding='same', activation='relu', kernel_initializer='glorot_normal'))\n",
    "model.add(MaxPooling2D(pool_size=2))\n",
    "model.add(Conv2D(filters=256, kernel_size=2, padding='same', activation='relu', kernel_initializer='glorot_normal'))\n",
    "model.add(MaxPooling2D(pool_size=2))\n",
    "model.add(Conv2D(filters=512, kernel_size=2, padding='same', activation='relu', kernel_initializer='glorot_normal'))\n",
    "model.add(MaxPooling2D(pool_size=2))\n",
    "model.add(Dropout(0.5))\n",
    "model.add(Flatten())\n",
    "model.add(Dense(500, activation='relu', kernel_initializer='glorot_normal'))\n",
    "model.add(Dropout(0.5))\n",
    "model.add(Dense(10, activation='softmax', kernel_initializer='glorot_normal'))\n",
    "\n",
    "\n",
    "model.summary()"
   ]
  },
  {
   "cell_type": "code",
   "execution_count": 36,
   "metadata": {},
   "outputs": [
    {
     "name": "stdout",
     "output_type": "stream",
     "text": [
      "('Failed to import pydot. You must `pip install pydot` and install graphviz (https://graphviz.gitlab.io/download/), ', 'for `pydotprint` to work.')\n"
     ]
    }
   ],
   "source": [
    "plot_model(model,to_file=os.path.join(MODEL_PATH,\"model_distracted_driver.png\"),show_shapes=True,show_layer_names=True)"
   ]
  },
  {
   "cell_type": "code",
   "execution_count": 37,
   "metadata": {},
   "outputs": [],
   "source": [
    "model.compile(optimizer='rmsprop', loss='categorical_crossentropy', metrics=['accuracy'])"
   ]
  },
  {
   "cell_type": "code",
   "execution_count": 38,
   "metadata": {},
   "outputs": [
    {
     "name": "stdout",
     "output_type": "stream",
     "text": [
      "WARNING:tensorflow:`period` argument is deprecated. Please use `save_freq` to specify the frequency in number of batches seen.\n"
     ]
    }
   ],
   "source": [
    "filepath = os.path.join(MODEL_PATH,\"distracted-{epoch:02d}-{val_accuracy:.2f}.hdf5\")\n",
    "checkpoint = ModelCheckpoint(filepath, monitor='val_accuracy', verbose=1, save_best_only=True, mode='max',period=1)\n",
    "callbacks_list = [checkpoint]"
   ]
  },
  {
   "cell_type": "code",
   "execution_count": 39,
   "metadata": {
    "scrolled": true
   },
   "outputs": [
    {
     "name": "stdout",
     "output_type": "stream",
     "text": [
      "Epoch 1/25\n",
      "449/449 [==============================] - ETA: 0s - loss: 0.9586 - accuracy: 0.6787\n",
      "Epoch 00001: val_accuracy improved from -inf to 0.93757, saving model to C:\\Users\\hp\\Desktop\\car\\Distracted-Driver-Detection-master\\data\\model\\self_trained\\distracted-01-0.94.hdf5\n",
      "449/449 [==============================] - 660s 1s/step - loss: 0.9586 - accuracy: 0.6787 - val_loss: 0.2413 - val_accuracy: 0.9376\n",
      "Epoch 2/25\n",
      "449/449 [==============================] - ETA: 0s - loss: 0.1819 - accuracy: 0.9460\n",
      "Epoch 00002: val_accuracy improved from 0.93757 to 0.95563, saving model to C:\\Users\\hp\\Desktop\\car\\Distracted-Driver-Detection-master\\data\\model\\self_trained\\distracted-02-0.96.hdf5\n",
      "449/449 [==============================] - 583s 1s/step - loss: 0.1819 - accuracy: 0.9460 - val_loss: 0.1402 - val_accuracy: 0.9556\n",
      "Epoch 3/25\n",
      "449/449 [==============================] - ETA: 0s - loss: 0.1065 - accuracy: 0.9699\n",
      "Epoch 00003: val_accuracy improved from 0.95563 to 0.99108, saving model to C:\\Users\\hp\\Desktop\\car\\Distracted-Driver-Detection-master\\data\\model\\self_trained\\distracted-03-0.99.hdf5\n",
      "449/449 [==============================] - 586s 1s/step - loss: 0.1065 - accuracy: 0.9699 - val_loss: 0.0367 - val_accuracy: 0.9911\n",
      "Epoch 4/25\n",
      "449/449 [==============================] - ETA: 0s - loss: 0.0786 - accuracy: 0.9773\n",
      "Epoch 00004: val_accuracy did not improve from 0.99108\n",
      "449/449 [==============================] - 581s 1s/step - loss: 0.0786 - accuracy: 0.9773 - val_loss: 0.0435 - val_accuracy: 0.9891\n",
      "Epoch 5/25\n",
      "449/449 [==============================] - ETA: 0s - loss: 0.0603 - accuracy: 0.9827\n",
      "Epoch 00005: val_accuracy did not improve from 0.99108\n",
      "449/449 [==============================] - 580s 1s/step - loss: 0.0603 - accuracy: 0.9827 - val_loss: 0.0432 - val_accuracy: 0.9909\n",
      "Epoch 6/25\n",
      "449/449 [==============================] - ETA: 0s - loss: 0.0562 - accuracy: 0.9842\n",
      "Epoch 00006: val_accuracy improved from 0.99108 to 0.99309, saving model to C:\\Users\\hp\\Desktop\\car\\Distracted-Driver-Detection-master\\data\\model\\self_trained\\distracted-06-0.99.hdf5\n",
      "449/449 [==============================] - 578s 1s/step - loss: 0.0562 - accuracy: 0.9842 - val_loss: 0.0255 - val_accuracy: 0.9931\n",
      "Epoch 7/25\n",
      "449/449 [==============================] - ETA: 0s - loss: 0.0492 - accuracy: 0.9865\n",
      "Epoch 00007: val_accuracy did not improve from 0.99309\n",
      "449/449 [==============================] - 576s 1s/step - loss: 0.0492 - accuracy: 0.9865 - val_loss: 0.0512 - val_accuracy: 0.9900\n",
      "Epoch 8/25\n",
      "449/449 [==============================] - ETA: 0s - loss: 0.0537 - accuracy: 0.9868\n",
      "Epoch 00008: val_accuracy did not improve from 0.99309\n",
      "449/449 [==============================] - 576s 1s/step - loss: 0.0537 - accuracy: 0.9868 - val_loss: 0.0506 - val_accuracy: 0.9906\n",
      "Epoch 9/25\n",
      "449/449 [==============================] - ETA: 0s - loss: 0.0433 - accuracy: 0.9877\n",
      "Epoch 00009: val_accuracy improved from 0.99309 to 0.99376, saving model to C:\\Users\\hp\\Desktop\\car\\Distracted-Driver-Detection-master\\data\\model\\self_trained\\distracted-09-0.99.hdf5\n",
      "449/449 [==============================] - 575s 1s/step - loss: 0.0433 - accuracy: 0.9877 - val_loss: 0.0317 - val_accuracy: 0.9938\n",
      "Epoch 10/25\n",
      "449/449 [==============================] - ETA: 0s - loss: 0.0436 - accuracy: 0.9872\n",
      "Epoch 00010: val_accuracy improved from 0.99376 to 0.99420, saving model to C:\\Users\\hp\\Desktop\\car\\Distracted-Driver-Detection-master\\data\\model\\self_trained\\distracted-10-0.99.hdf5\n",
      "449/449 [==============================] - 586s 1s/step - loss: 0.0436 - accuracy: 0.9872 - val_loss: 0.0479 - val_accuracy: 0.9942\n",
      "Epoch 11/25\n",
      "449/449 [==============================] - ETA: 0s - loss: 0.0490 - accuracy: 0.9873\n",
      "Epoch 00011: val_accuracy did not improve from 0.99420\n",
      "449/449 [==============================] - 680s 2s/step - loss: 0.0490 - accuracy: 0.9873 - val_loss: 0.0381 - val_accuracy: 0.9942\n",
      "Epoch 12/25\n",
      "449/449 [==============================] - ETA: 0s - loss: 0.0429 - accuracy: 0.9890\n",
      "Epoch 00012: val_accuracy improved from 0.99420 to 0.99509, saving model to C:\\Users\\hp\\Desktop\\car\\Distracted-Driver-Detection-master\\data\\model\\self_trained\\distracted-12-1.00.hdf5\n",
      "449/449 [==============================] - 610s 1s/step - loss: 0.0429 - accuracy: 0.9890 - val_loss: 0.0355 - val_accuracy: 0.9951\n",
      "Epoch 13/25\n",
      "449/449 [==============================] - ETA: 0s - loss: 0.0420 - accuracy: 0.9899\n",
      "Epoch 00013: val_accuracy improved from 0.99509 to 0.99532, saving model to C:\\Users\\hp\\Desktop\\car\\Distracted-Driver-Detection-master\\data\\model\\self_trained\\distracted-13-1.00.hdf5\n",
      "449/449 [==============================] - 574s 1s/step - loss: 0.0420 - accuracy: 0.9899 - val_loss: 0.0278 - val_accuracy: 0.9953\n",
      "Epoch 14/25\n",
      "449/449 [==============================] - ETA: 0s - loss: 0.0483 - accuracy: 0.9891\n",
      "Epoch 00014: val_accuracy did not improve from 0.99532\n",
      "449/449 [==============================] - 570s 1s/step - loss: 0.0483 - accuracy: 0.9891 - val_loss: 0.0343 - val_accuracy: 0.9944\n",
      "Epoch 15/25\n",
      "449/449 [==============================] - ETA: 0s - loss: 0.0349 - accuracy: 0.9909\n",
      "Epoch 00015: val_accuracy improved from 0.99532 to 0.99621, saving model to C:\\Users\\hp\\Desktop\\car\\Distracted-Driver-Detection-master\\data\\model\\self_trained\\distracted-15-1.00.hdf5\n",
      "449/449 [==============================] - 578s 1s/step - loss: 0.0349 - accuracy: 0.9909 - val_loss: 0.0316 - val_accuracy: 0.9962\n",
      "Epoch 16/25\n",
      "449/449 [==============================] - ETA: 0s - loss: 0.0482 - accuracy: 0.9889\n",
      "Epoch 00016: val_accuracy did not improve from 0.99621\n",
      "449/449 [==============================] - 586s 1s/step - loss: 0.0482 - accuracy: 0.9889 - val_loss: 0.0334 - val_accuracy: 0.9933\n",
      "Epoch 17/25\n",
      "449/449 [==============================] - ETA: 0s - loss: 0.0434 - accuracy: 0.9904\n",
      "Epoch 00017: val_accuracy did not improve from 0.99621\n",
      "449/449 [==============================] - 570s 1s/step - loss: 0.0434 - accuracy: 0.9904 - val_loss: 0.0453 - val_accuracy: 0.9933\n",
      "Epoch 18/25\n",
      "449/449 [==============================] - ETA: 0s - loss: 0.0503 - accuracy: 0.9882\n",
      "Epoch 00018: val_accuracy did not improve from 0.99621\n",
      "449/449 [==============================] - 570s 1s/step - loss: 0.0503 - accuracy: 0.9882 - val_loss: 0.0785 - val_accuracy: 0.9915\n",
      "Epoch 19/25\n",
      "449/449 [==============================] - ETA: 0s - loss: 0.0460 - accuracy: 0.9898\n",
      "Epoch 00019: val_accuracy did not improve from 0.99621\n",
      "449/449 [==============================] - 577s 1s/step - loss: 0.0460 - accuracy: 0.9898 - val_loss: 0.0325 - val_accuracy: 0.9944\n",
      "Epoch 20/25\n",
      "449/449 [==============================] - ETA: 0s - loss: 0.0503 - accuracy: 0.9890\n",
      "Epoch 00020: val_accuracy did not improve from 0.99621\n",
      "449/449 [==============================] - 568s 1s/step - loss: 0.0503 - accuracy: 0.9890 - val_loss: 0.0359 - val_accuracy: 0.9942\n",
      "Epoch 21/25\n",
      "449/449 [==============================] - ETA: 0s - loss: 0.0500 - accuracy: 0.9907\n",
      "Epoch 00021: val_accuracy did not improve from 0.99621\n",
      "449/449 [==============================] - 570s 1s/step - loss: 0.0500 - accuracy: 0.9907 - val_loss: 0.0647 - val_accuracy: 0.9946\n",
      "Epoch 22/25\n",
      "449/449 [==============================] - ETA: 0s - loss: 0.0530 - accuracy: 0.9894\n",
      "Epoch 00022: val_accuracy did not improve from 0.99621\n",
      "449/449 [==============================] - 569s 1s/step - loss: 0.0530 - accuracy: 0.9894 - val_loss: 0.0469 - val_accuracy: 0.9944\n",
      "Epoch 23/25\n",
      "449/449 [==============================] - ETA: 0s - loss: 0.0593 - accuracy: 0.9890\n",
      "Epoch 00023: val_accuracy did not improve from 0.99621\n",
      "449/449 [==============================] - 571s 1s/step - loss: 0.0593 - accuracy: 0.9890 - val_loss: 0.0526 - val_accuracy: 0.9951\n",
      "Epoch 24/25\n",
      "449/449 [==============================] - ETA: 0s - loss: 0.0489 - accuracy: 0.9909\n",
      "Epoch 00024: val_accuracy did not improve from 0.99621\n",
      "449/449 [==============================] - 568s 1s/step - loss: 0.0489 - accuracy: 0.9909 - val_loss: 0.0368 - val_accuracy: 0.9951\n",
      "Epoch 25/25\n",
      "449/449 [==============================] - ETA: 0s - loss: 0.0607 - accuracy: 0.9889\n",
      "Epoch 00025: val_accuracy did not improve from 0.99621\n",
      "449/449 [==============================] - 568s 1s/step - loss: 0.0607 - accuracy: 0.9889 - val_loss: 0.0496 - val_accuracy: 0.9942\n"
     ]
    }
   ],
   "source": [
    "model_history = model.fit(train_tensors,ytrain,validation_data = (valid_tensors, ytest),epochs=25, batch_size=40, shuffle=True,callbacks=callbacks_list)"
   ]
  },
  {
   "cell_type": "code",
   "execution_count": 40,
   "metadata": {
    "scrolled": true
   },
   "outputs": [
    {
     "data": {
      "image/png": "[encoded data removed]",
      "text/plain": [
       "<Figure size 864x864 with 2 Axes>"
      ]
     },
     "metadata": {
      "needs_background": "light"
     },
     "output_type": "display_data"
    }
   ],
   "source": [
    "fig, (ax1, ax2) = plt.subplots(2, 1, figsize=(12, 12))\n",
    "ax1.plot(model_history.history['loss'], color='b', label=\"Training loss\")\n",
    "ax1.plot(model_history.history['val_loss'], color='r', label=\"validation loss\")\n",
    "ax1.set_xticks(np.arange(1, 25, 1))\n",
    "ax1.set_yticks(np.arange(0, 1, 0.1))\n",
    "\n",
    "ax2.plot(model_history.history['accuracy'], color='b', label=\"Training accuracy\")\n",
    "ax2.plot(model_history.history['val_accuracy'], color='r',label=\"Validation accuracy\")\n",
    "ax2.set_xticks(np.arange(1, 25, 1))\n",
    "\n",
    "legend = plt.legend(loc='best', shadow=True)\n",
    "plt.tight_layout()\n",
    "plt.show()"
   ]
  },
  {
   "cell_type": "markdown",
   "metadata": {},
   "source": [
    "# Model Analysis\n",
    "\n",
    "Finding the Confusion matrix,Precision,Recall and F1 score to analyse the model thus created "
   ]
  },
  {
   "cell_type": "code",
   "execution_count": 41,
   "metadata": {},
   "outputs": [],
   "source": [
    "\n",
    "def print_confusion_matrix(confusion_matrix, class_names, figsize = (10,7), fontsize=14):\n",
    "    df_cm = pd.DataFrame(\n",
    "        confusion_matrix, index=class_names, columns=class_names, \n",
    "    )\n",
    "    fig = plt.figure(figsize=figsize)\n",
    "    try:\n",
    "        heatmap = sns.heatmap(df_cm, annot=True, fmt=\"d\")\n",
    "    except ValueError:\n",
    "        raise ValueError(\"Confusion matrix values must be integers.\")\n",
    "    heatmap.yaxis.set_ticklabels(heatmap.yaxis.get_ticklabels(), rotation=0, ha='right', fontsize=fontsize)\n",
    "    heatmap.xaxis.set_ticklabels(heatmap.xaxis.get_ticklabels(), rotation=45, ha='right', fontsize=fontsize)\n",
    "    plt.ylabel('True label')\n",
    "    plt.xlabel('Predicted label')\n",
    "    fig.savefig(os.path.join(MODEL_PATH,\"confusion_matrix.png\"))\n",
    "    return fig\n"
   ]
  },
  {
   "cell_type": "code",
   "execution_count": 42,
   "metadata": {},
   "outputs": [],
   "source": [
    "def print_heatmap(n_labels, n_predictions, class_names):\n",
    "    labels = n_labels #sess.run(tf.argmax(n_labels, 1))\n",
    "    predictions = n_predictions #sess.run(tf.argmax(n_predictions, 1))\n",
    "\n",
    "#     confusion_matrix = sess.run(tf.contrib.metrics.confusion_matrix(labels, predictions))\n",
    "    matrix = confusion_matrix(labels.argmax(axis=1),predictions.argmax(axis=1))\n",
    "    row_sum = np.sum(matrix, axis = 1)\n",
    "    w, h = matrix.shape\n",
    "\n",
    "    c_m = np.zeros((w, h))\n",
    "\n",
    "    for i in range(h):\n",
    "        c_m[i] = matrix[i] * 100 / row_sum[i]\n",
    "\n",
    "    c = c_m.astype(dtype = np.uint8)\n",
    "\n",
    "    \n",
    "    heatmap = print_confusion_matrix(c, class_names, figsize=(18,10), fontsize=20)\n"
   ]
  },
  {
   "cell_type": "code",
   "execution_count": 43,
   "metadata": {},
   "outputs": [],
   "source": [
    "class_names = list()\n",
    "for name,idx in labels_id.items():\n",
    "    class_names.append(name)\n",
    "# print(class_names)\n",
    "ypred = model.predict(valid_tensors)"
   ]
  },
  {
   "cell_type": "code",
   "execution_count": 44,
   "metadata": {
    "scrolled": true
   },
   "outputs": [
    {
     "data": {
      "image/png": "[encoded data removed]",
      "text/plain": [
       "<Figure size 1296x720 with 2 Axes>"
      ]
     },
     "metadata": {
      "needs_background": "light"
     },
     "output_type": "display_data"
    }
   ],
   "source": [
    "print_heatmap(ytest,ypred,class_names)"
   ]
  },
  {
   "cell_type": "markdown",
   "metadata": {},
   "source": [
    "## Precision Recall F1 Score"
   ]
  },
  {
   "cell_type": "code",
   "execution_count": 45,
   "metadata": {},
   "outputs": [],
   "source": [
    "ypred_class = np.argmax(ypred,axis=1)\n",
    "# print(ypred_class[:10])\n",
    "ytest = np.argmax(ytest,axis=1)"
   ]
  },
  {
   "cell_type": "code",
   "execution_count": 46,
   "metadata": {},
   "outputs": [
    {
     "name": "stdout",
     "output_type": "stream",
     "text": [
      "Accuracy: 0.994203\n",
      "Precision: 0.994235\n",
      "Recall: 0.994203\n",
      "F1 score: 0.994201\n"
     ]
    }
   ],
   "source": [
    "accuracy = accuracy_score(ytest,ypred_class)\n",
    "print('Accuracy: %f' % accuracy)\n",
    "# precision tp / (tp + fp)\n",
    "precision = precision_score(ytest, ypred_class,average='weighted')\n",
    "print('Precision: %f' % precision)\n",
    "# recall: tp / (tp + fn)\n",
    "recall = recall_score(ytest,ypred_class,average='weighted')\n",
    "print('Recall: %f' % recall)\n",
    "# f1: 2 tp / (2 tp + fp + fn)\n",
    "f1 = f1_score(ytest,ypred_class,average='weighted')\n",
    "print('F1 score: %f' % f1)"
   ]
  },
  {
   "cell_type": "code",
   "execution_count": null,
   "metadata": {},
   "outputs": [],
   "source": []
  }
 ],
 "metadata": {
  "kernelspec": {
   "display_name": "Python 3",
   "language": "python",
   "name": "python3"
  },
  "language_info": {
   "codemirror_mode": {
    "name": "ipython",
    "version": 3
   },
   "file_extension": ".py",
   "mimetype": "text/x-python",
   "name": "python",
   "nbconvert_exporter": "python",
   "pygments_lexer": "ipython3",
   "version": "3.8.8"
  }
 },
 "nbformat": 4,
 "nbformat_minor": 4
}
