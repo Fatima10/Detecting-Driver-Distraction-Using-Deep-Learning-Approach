{
 "cells": [
  {
   "cell_type": "code",
   "execution_count": 1,
   "metadata": {},
   "outputs": [],
   "source": [
    "import os\n",
    "import pandas as pd\n",
    "import pickle\n",
    "import shutil\n",
    "import numpy as np\n",
    "import seaborn as sns\n",
    "from sklearn.datasets import load_files\n",
    "from keras.utils import np_utils\n",
    "import matplotlib.pyplot as plt\n",
    "from keras.layers import Conv2D, MaxPooling2D, GlobalAveragePooling2D\n",
    "from keras.layers import Dropout, Flatten, Dense\n",
    "from keras.models import Sequential,Model\n",
    "from keras.utils.vis_utils import plot_model\n",
    "from keras.callbacks import ModelCheckpoint\n",
    "from keras.utils import to_categorical\n",
    "from sklearn.metrics import confusion_matrix\n",
    "from sklearn.metrics import accuracy_score,precision_score,recall_score,f1_score\n",
    "\n",
    "\n",
    "from PIL import ImageFile   \n",
    "from sklearn.model_selection import train_test_split\n",
    "from keras.preprocessing import image                  \n",
    "from tqdm import tqdm\n",
    "from keras import optimizers\n",
    "from tensorflow.keras.applications.vgg19 import VGG19\n"
   ]
  },
  {
   "cell_type": "code",
   "execution_count": 2,
   "metadata": {},
   "outputs": [],
   "source": [
    "TEST_DIR = os.path.join(os.getcwd(),\"imgs\",\"test\")\n",
    "TRAIN_DIR = os.path.join(os.getcwd(),\"imgs\",\"train\")\n",
    "MODEL_PATH = os.path.join(os.getcwd(),\"model\",\"vgg19_fine_tuned\")\n",
    "PICKLE_PATH = os.path.join(os.getcwd(),\"picklevgg19\")\n",
    "TEST_CSV = os.path.join(os.getcwd(),\"csv_files\",\"test.csv\")\n",
    "TRAIN_CSV = os.path.join(os.getcwd(),\"csv_files\",\"train.csv\")"
   ]
  },
  {
   "cell_type": "code",
   "execution_count": 3,
   "metadata": {},
   "outputs": [
    {
     "name": "stdout",
     "output_type": "stream",
     "text": [
      "Model path does not exists\n",
      "Model path created\n"
     ]
    }
   ],
   "source": [
    "if not os.path.exists(TEST_DIR):\n",
    "    print(\"Testing data does not exists\")\n",
    "if not os.path.exists(TRAIN_DIR):\n",
    "    print(\"Training data does not exists\")\n",
    "if not os.path.exists(MODEL_PATH):\n",
    "    print(\"Model path does not exists\")\n",
    "    os.makedirs(MODEL_PATH)\n",
    "    print(\"Model path created\")\n",
    "else:\n",
    "    shutil.rmtree(MODEL_PATH)\n",
    "    os.makedirs(MODEL_PATH)\n",
    "if not os.path.exists(PICKLE_PATH):\n",
    "    os.makedirs(PICKLE_PATH)"
   ]
  },
  {
   "cell_type": "code",
   "execution_count": 4,
   "metadata": {},
   "outputs": [],
   "source": [
    "data_train = pd.read_csv(TRAIN_CSV)\n",
    "data_test = pd.read_csv(TEST_CSV)"
   ]
  },
  {
   "cell_type": "code",
   "execution_count": 5,
   "metadata": {},
   "outputs": [
    {
     "name": "stdout",
     "output_type": "stream",
     "text": [
      "{'c5': 0, 'c6': 1, 'c8': 2, 'c0': 3, 'c4': 4, 'c3': 5, 'c9': 6, 'c1': 7, 'c2': 8, 'c7': 9}\n",
      "(22424, 10)\n"
     ]
    }
   ],
   "source": [
    "labels_list = list(set(data_train['ClassName'].values.tolist()))\n",
    "labels_id = {label_name:id for id,label_name in enumerate(labels_list)}\n",
    "print(labels_id)\n",
    "data_train['ClassName'].replace(labels_id,inplace=True)\n",
    "\n",
    "labels = to_categorical(data_train['ClassName'])\n",
    "print(labels.shape)\n",
    "\n",
    "with open(os.path.join(PICKLE_PATH,\"labels_list_vgg19_fine_tuned.pkl\"),\"wb\") as handle:\n",
    "    pickle.dump(labels_id,handle)"
   ]
  },
  {
   "cell_type": "code",
   "execution_count": 6,
   "metadata": {},
   "outputs": [],
   "source": [
    "xtrain,xtest,ytrain,ytest = train_test_split(data_train.iloc[:,0],labels,test_size = 0.2,random_state=42)\n",
    "def path_to_tensor(img_path):\n",
    "    # loads RGB image as PIL.Image.Image type\n",
    "    img = image.load_img(img_path, target_size=(64, 64))\n",
    "    # convert PIL.Image.Image type to 3D tensor with shape (224, 224, 3)\n",
    "    x = image.img_to_array(img)\n",
    "    # convert 3D tensor to 4D tensor with shape (1, 224, 224, 3) and return 4D tensor\n",
    "    return np.expand_dims(x, axis=0)\n",
    "\n",
    "def paths_to_tensor(img_paths):\n",
    "    list_of_tensors = [path_to_tensor(img_path) for img_path in tqdm(img_paths)]\n",
    "    return np.vstack(list_of_tensors)"
   ]
  },
  {
   "cell_type": "code",
   "execution_count": 7,
   "metadata": {},
   "outputs": [
    {
     "name": "stderr",
     "output_type": "stream",
     "text": [
      "100%|██████████| 17939/17939 [00:30<00:00, 588.57it/s]\n",
      "100%|██████████| 4485/4485 [00:07<00:00, 573.41it/s]\n"
     ]
    }
   ],
   "source": [
    "ImageFile.LOAD_TRUNCATED_IMAGES = True                 \n",
    "# pre-process the data for Keras\n",
    "train_tensors = paths_to_tensor(xtrain).astype('float32')/255 - 0.5\n",
    "valid_tensors = paths_to_tensor(xtest).astype('float32')/255 - 0.5"
   ]
  },
  {
   "cell_type": "markdown",
   "metadata": {},
   "source": [
    "# MODEL ARCHITECTURE"
   ]
  },
  {
   "cell_type": "code",
   "execution_count": 8,
   "metadata": {
    "scrolled": true
   },
   "outputs": [
    {
     "name": "stdout",
     "output_type": "stream",
     "text": [
      "Model: \"vgg19\"\n",
      "_________________________________________________________________\n",
      "Layer (type)                 Output Shape              Param #   \n",
      "=================================================================\n",
      "input_1 (InputLayer)         [(None, None, None, 3)]   0         \n",
      "_________________________________________________________________\n",
      "block1_conv1 (Conv2D)        (None, None, None, 64)    1792      \n",
      "_________________________________________________________________\n",
      "block1_conv2 (Conv2D)        (None, None, None, 64)    36928     \n",
      "_________________________________________________________________\n",
      "block1_pool (MaxPooling2D)   (None, None, None, 64)    0         \n",
      "_________________________________________________________________\n",
      "block2_conv1 (Conv2D)        (None, None, None, 128)   73856     \n",
      "_________________________________________________________________\n",
      "block2_conv2 (Conv2D)        (None, None, None, 128)   147584    \n",
      "_________________________________________________________________\n",
      "block2_pool (MaxPooling2D)   (None, None, None, 128)   0         \n",
      "_________________________________________________________________\n",
      "block3_conv1 (Conv2D)        (None, None, None, 256)   295168    \n",
      "_________________________________________________________________\n",
      "block3_conv2 (Conv2D)        (None, None, None, 256)   590080    \n",
      "_________________________________________________________________\n",
      "block3_conv3 (Conv2D)        (None, None, None, 256)   590080    \n",
      "_________________________________________________________________\n",
      "block3_conv4 (Conv2D)        (None, None, None, 256)   590080    \n",
      "_________________________________________________________________\n",
      "block3_pool (MaxPooling2D)   (None, None, None, 256)   0         \n",
      "_________________________________________________________________\n",
      "block4_conv1 (Conv2D)        (None, None, None, 512)   1180160   \n",
      "_________________________________________________________________\n",
      "block4_conv2 (Conv2D)        (None, None, None, 512)   2359808   \n",
      "_________________________________________________________________\n",
      "block4_conv3 (Conv2D)        (None, None, None, 512)   2359808   \n",
      "_________________________________________________________________\n",
      "block4_conv4 (Conv2D)        (None, None, None, 512)   2359808   \n",
      "_________________________________________________________________\n",
      "block4_pool (MaxPooling2D)   (None, None, None, 512)   0         \n",
      "_________________________________________________________________\n",
      "block5_conv1 (Conv2D)        (None, None, None, 512)   2359808   \n",
      "_________________________________________________________________\n",
      "block5_conv2 (Conv2D)        (None, None, None, 512)   2359808   \n",
      "_________________________________________________________________\n",
      "block5_conv3 (Conv2D)        (None, None, None, 512)   2359808   \n",
      "_________________________________________________________________\n",
      "block5_conv4 (Conv2D)        (None, None, None, 512)   2359808   \n",
      "_________________________________________________________________\n",
      "block5_pool (MaxPooling2D)   (None, None, None, 512)   0         \n",
      "=================================================================\n",
      "Total params: 20,024,384\n",
      "Trainable params: 20,024,384\n",
      "Non-trainable params: 0\n",
      "_________________________________________________________________\n"
     ]
    }
   ],
   "source": [
    "model = VGG19(include_top=False)\n",
    "model.summary()"
   ]
  },
  {
   "cell_type": "code",
   "execution_count": 9,
   "metadata": {
    "scrolled": true
   },
   "outputs": [],
   "source": [
    "# train_vgg16 = model.predict(train_tensors,verbose=1)\n",
    "# valid_vgg16 = model.predict(valid_tensors,verbose=1)"
   ]
  },
  {
   "cell_type": "code",
   "execution_count": 10,
   "metadata": {},
   "outputs": [],
   "source": [
    "# print(\"Train shape\",train_vgg16.shape)\n",
    "# print(\"Validation shape\",valid_vgg16.shape)"
   ]
  },
  {
   "cell_type": "code",
   "execution_count": 11,
   "metadata": {},
   "outputs": [],
   "source": [
    "# train_features = train_vgg16[0]\n",
    "# valid_features = valid_vgg16[0]"
   ]
  },
  {
   "cell_type": "code",
   "execution_count": 12,
   "metadata": {
    "scrolled": true
   },
   "outputs": [],
   "source": [
    "# print(\"Train features shape\",train_features.shape)\n",
    "# print(\"Validation features shape\",valid_features.shape)"
   ]
  },
  {
   "cell_type": "markdown",
   "metadata": {},
   "source": [
    "# Model Architecture"
   ]
  },
  {
   "cell_type": "code",
   "execution_count": 13,
   "metadata": {},
   "outputs": [],
   "source": [
    "# base_model = VGG16(include_top=False)\n",
    "# base_model.summary()"
   ]
  },
  {
   "cell_type": "code",
   "execution_count": 14,
   "metadata": {},
   "outputs": [
    {
     "data": {
      "text/plain": [
       "(None, None, 512)"
      ]
     },
     "execution_count": 14,
     "metadata": {},
     "output_type": "execute_result"
    }
   ],
   "source": [
    "model.output_shape[1:]"
   ]
  },
  {
   "cell_type": "code",
   "execution_count": 15,
   "metadata": {
    "scrolled": true
   },
   "outputs": [
    {
     "name": "stdout",
     "output_type": "stream",
     "text": [
      "Model: \"functional_1\"\n",
      "_________________________________________________________________\n",
      "Layer (type)                 Output Shape              Param #   \n",
      "=================================================================\n",
      "input_1 (InputLayer)         [(None, None, None, 3)]   0         \n",
      "_________________________________________________________________\n",
      "block1_conv1 (Conv2D)        (None, None, None, 64)    1792      \n",
      "_________________________________________________________________\n",
      "block1_conv2 (Conv2D)        (None, None, None, 64)    36928     \n",
      "_________________________________________________________________\n",
      "block1_pool (MaxPooling2D)   (None, None, None, 64)    0         \n",
      "_________________________________________________________________\n",
      "block2_conv1 (Conv2D)        (None, None, None, 128)   73856     \n",
      "_________________________________________________________________\n",
      "block2_conv2 (Conv2D)        (None, None, None, 128)   147584    \n",
      "_________________________________________________________________\n",
      "block2_pool (MaxPooling2D)   (None, None, None, 128)   0         \n",
      "_________________________________________________________________\n",
      "block3_conv1 (Conv2D)        (None, None, None, 256)   295168    \n",
      "_________________________________________________________________\n",
      "block3_conv2 (Conv2D)        (None, None, None, 256)   590080    \n",
      "_________________________________________________________________\n",
      "block3_conv3 (Conv2D)        (None, None, None, 256)   590080    \n",
      "_________________________________________________________________\n",
      "block3_conv4 (Conv2D)        (None, None, None, 256)   590080    \n",
      "_________________________________________________________________\n",
      "block3_pool (MaxPooling2D)   (None, None, None, 256)   0         \n",
      "_________________________________________________________________\n",
      "block4_conv1 (Conv2D)        (None, None, None, 512)   1180160   \n",
      "_________________________________________________________________\n",
      "block4_conv2 (Conv2D)        (None, None, None, 512)   2359808   \n",
      "_________________________________________________________________\n",
      "block4_conv3 (Conv2D)        (None, None, None, 512)   2359808   \n",
      "_________________________________________________________________\n",
      "block4_conv4 (Conv2D)        (None, None, None, 512)   2359808   \n",
      "_________________________________________________________________\n",
      "block4_pool (MaxPooling2D)   (None, None, None, 512)   0         \n",
      "_________________________________________________________________\n",
      "block5_conv1 (Conv2D)        (None, None, None, 512)   2359808   \n",
      "_________________________________________________________________\n",
      "block5_conv2 (Conv2D)        (None, None, None, 512)   2359808   \n",
      "_________________________________________________________________\n",
      "block5_conv3 (Conv2D)        (None, None, None, 512)   2359808   \n",
      "_________________________________________________________________\n",
      "block5_conv4 (Conv2D)        (None, None, None, 512)   2359808   \n",
      "_________________________________________________________________\n",
      "block5_pool (MaxPooling2D)   (None, None, None, 512)   0         \n",
      "_________________________________________________________________\n",
      "sequential (Sequential)      (None, 10)                5130      \n",
      "=================================================================\n",
      "Total params: 20,029,514\n",
      "Trainable params: 20,029,514\n",
      "Non-trainable params: 0\n",
      "_________________________________________________________________\n"
     ]
    }
   ],
   "source": [
    "vgg19_model_fine_tuned = Sequential()\n",
    "vgg19_model_fine_tuned.add(GlobalAveragePooling2D(input_shape=model.output_shape[1:]))\n",
    "vgg19_model_fine_tuned.add(Dense(10, activation='softmax', kernel_initializer='glorot_normal'))\n",
    "vgg19_model_fine_tuned = Model(inputs = model.input, outputs = vgg19_model_fine_tuned(model.output))\n",
    "\n",
    "vgg19_model_fine_tuned.summary()"
   ]
  },
  {
   "cell_type": "code",
   "execution_count": 16,
   "metadata": {},
   "outputs": [],
   "source": [
    "for layer in vgg19_model_fine_tuned.layers[:15]:\n",
    "    layer.trainable = False"
   ]
  },
  {
   "cell_type": "code",
   "execution_count": 17,
   "metadata": {},
   "outputs": [],
   "source": [
    "vgg19_model_fine_tuned.compile(loss='categorical_crossentropy',optimizer=optimizers.SGD(lr=1e-4, momentum=0.9),metrics=['accuracy'])"
   ]
  },
  {
   "cell_type": "code",
   "execution_count": 18,
   "metadata": {},
   "outputs": [
    {
     "name": "stdout",
     "output_type": "stream",
     "text": [
      "('Failed to import pydot. You must `pip install pydot` and install graphviz (https://graphviz.gitlab.io/download/), ', 'for `pydotprint` to work.')\n"
     ]
    }
   ],
   "source": [
    "plot_model(vgg19_model_fine_tuned,to_file=os.path.join(os.getcwd(),\"model\",\"vgg19_fine_tuned\",\"model_distracted_driver_vgg19.png\"),show_shapes=True,show_layer_names=True)"
   ]
  },
  {
   "cell_type": "code",
   "execution_count": 19,
   "metadata": {},
   "outputs": [
    {
     "name": "stdout",
     "output_type": "stream",
     "text": [
      "WARNING:tensorflow:`period` argument is deprecated. Please use `save_freq` to specify the frequency in number of batches seen.\n"
     ]
    }
   ],
   "source": [
    "filepath = os.path.join(MODEL_PATH,\"distracted-{epoch:02d}-{val_accuracy:.2f}.hdf5\")\n",
    "checkpoint = ModelCheckpoint(filepath, monitor='val_accuracy', verbose=1, save_best_only=True, mode='max',period=1)\n",
    "callbacks_list = [checkpoint]"
   ]
  },
  {
   "cell_type": "code",
   "execution_count": 20,
   "metadata": {},
   "outputs": [
    {
     "name": "stdout",
     "output_type": "stream",
     "text": [
      "Epoch 1/25\n",
      "1122/1122 [==============================] - ETA: 0s - loss: 0.8552 - accuracy: 0.7163\n",
      "Epoch 00001: val_accuracy improved from -inf to 0.93779, saving model to C:\\Users\\hp\\Desktop\\car\\Distracted-Driver-Detection-master\\data\\model\\vgg19_fine_tuned\\distracted-01-0.94.hdf5\n",
      "1122/1122 [==============================] - 694s 619ms/step - loss: 0.8552 - accuracy: 0.7163 - val_loss: 0.2268 - val_accuracy: 0.9378\n",
      "Epoch 2/25\n",
      "1122/1122 [==============================] - ETA: 0s - loss: 0.1677 - accuracy: 0.9512\n",
      "Epoch 00002: val_accuracy improved from 0.93779 to 0.96276, saving model to C:\\Users\\hp\\Desktop\\car\\Distracted-Driver-Detection-master\\data\\model\\vgg19_fine_tuned\\distracted-02-0.96.hdf5\n",
      "1122/1122 [==============================] - 700s 624ms/step - loss: 0.1677 - accuracy: 0.9512 - val_loss: 0.1348 - val_accuracy: 0.9628\n",
      "Epoch 3/25\n",
      "1122/1122 [==============================] - ETA: 0s - loss: 0.0856 - accuracy: 0.9760\n",
      "Epoch 00003: val_accuracy improved from 0.96276 to 0.98082, saving model to C:\\Users\\hp\\Desktop\\car\\Distracted-Driver-Detection-master\\data\\model\\vgg19_fine_tuned\\distracted-03-0.98.hdf5\n",
      "1122/1122 [==============================] - 700s 624ms/step - loss: 0.0856 - accuracy: 0.9760 - val_loss: 0.0692 - val_accuracy: 0.9808\n",
      "Epoch 4/25\n",
      "1122/1122 [==============================] - ETA: 0s - loss: 0.0491 - accuracy: 0.9865\n",
      "Epoch 00004: val_accuracy improved from 0.98082 to 0.98350, saving model to C:\\Users\\hp\\Desktop\\car\\Distracted-Driver-Detection-master\\data\\model\\vgg19_fine_tuned\\distracted-04-0.98.hdf5\n",
      "1122/1122 [==============================] - 702s 625ms/step - loss: 0.0491 - accuracy: 0.9865 - val_loss: 0.0566 - val_accuracy: 0.9835\n",
      "Epoch 5/25\n",
      "1122/1122 [==============================] - ETA: 0s - loss: 0.0292 - accuracy: 0.9925\n",
      "Epoch 00005: val_accuracy improved from 0.98350 to 0.98506, saving model to C:\\Users\\hp\\Desktop\\car\\Distracted-Driver-Detection-master\\data\\model\\vgg19_fine_tuned\\distracted-05-0.99.hdf5\n",
      "1122/1122 [==============================] - 703s 626ms/step - loss: 0.0292 - accuracy: 0.9925 - val_loss: 0.0472 - val_accuracy: 0.9851\n",
      "Epoch 6/25\n",
      "1122/1122 [==============================] - ETA: 0s - loss: 0.0179 - accuracy: 0.9952\n",
      "Epoch 00006: val_accuracy improved from 0.98506 to 0.99019, saving model to C:\\Users\\hp\\Desktop\\car\\Distracted-Driver-Detection-master\\data\\model\\vgg19_fine_tuned\\distracted-06-0.99.hdf5\n",
      "1122/1122 [==============================] - 708s 631ms/step - loss: 0.0179 - accuracy: 0.9952 - val_loss: 0.0371 - val_accuracy: 0.9902\n",
      "Epoch 7/25\n",
      "1122/1122 [==============================] - ETA: 0s - loss: 0.0160 - accuracy: 0.9960\n",
      "Epoch 00007: val_accuracy did not improve from 0.99019\n",
      "1122/1122 [==============================] - 710s 633ms/step - loss: 0.0160 - accuracy: 0.9960 - val_loss: 0.0500 - val_accuracy: 0.9864\n",
      "Epoch 8/25\n",
      "1122/1122 [==============================] - ETA: 0s - loss: 0.0082 - accuracy: 0.9984\n",
      "Epoch 00008: val_accuracy did not improve from 0.99019\n",
      "1122/1122 [==============================] - 689s 614ms/step - loss: 0.0082 - accuracy: 0.9984 - val_loss: 0.0338 - val_accuracy: 0.9893\n",
      "Epoch 9/25\n",
      "1122/1122 [==============================] - ETA: 0s - loss: 0.0051 - accuracy: 0.9993\n",
      "Epoch 00009: val_accuracy improved from 0.99019 to 0.99041, saving model to C:\\Users\\hp\\Desktop\\car\\Distracted-Driver-Detection-master\\data\\model\\vgg19_fine_tuned\\distracted-09-0.99.hdf5\n",
      "1122/1122 [==============================] - 694s 618ms/step - loss: 0.0051 - accuracy: 0.9993 - val_loss: 0.0322 - val_accuracy: 0.9904\n",
      "Epoch 10/25\n",
      "1122/1122 [==============================] - ETA: 0s - loss: 0.0063 - accuracy: 0.9983\n",
      "Epoch 00010: val_accuracy did not improve from 0.99041\n",
      "1122/1122 [==============================] - 688s 613ms/step - loss: 0.0063 - accuracy: 0.9983 - val_loss: 0.0456 - val_accuracy: 0.9862\n",
      "Epoch 11/25\n",
      "1122/1122 [==============================] - ETA: 0s - loss: 0.0036 - accuracy: 0.9996\n",
      "Epoch 00011: val_accuracy improved from 0.99041 to 0.99130, saving model to C:\\Users\\hp\\Desktop\\car\\Distracted-Driver-Detection-master\\data\\model\\vgg19_fine_tuned\\distracted-11-0.99.hdf5\n",
      "1122/1122 [==============================] - 695s 619ms/step - loss: 0.0036 - accuracy: 0.9996 - val_loss: 0.0304 - val_accuracy: 0.9913\n",
      "Epoch 12/25\n",
      "1122/1122 [==============================] - ETA: 0s - loss: 0.0012 - accuracy: 1.0000\n",
      "Epoch 00012: val_accuracy improved from 0.99130 to 0.99175, saving model to C:\\Users\\hp\\Desktop\\car\\Distracted-Driver-Detection-master\\data\\model\\vgg19_fine_tuned\\distracted-12-0.99.hdf5\n",
      "1122/1122 [==============================] - 685s 611ms/step - loss: 0.0012 - accuracy: 1.0000 - val_loss: 0.0301 - val_accuracy: 0.9918\n",
      "Epoch 13/25\n",
      "1122/1122 [==============================] - ETA: 0s - loss: 8.7521e-04 - accuracy: 1.0000\n",
      "Epoch 00013: val_accuracy improved from 0.99175 to 0.99197, saving model to C:\\Users\\hp\\Desktop\\car\\Distracted-Driver-Detection-master\\data\\model\\vgg19_fine_tuned\\distracted-13-0.99.hdf5\n",
      "1122/1122 [==============================] - 684s 610ms/step - loss: 8.7521e-04 - accuracy: 1.0000 - val_loss: 0.0270 - val_accuracy: 0.9920\n",
      "Epoch 14/25\n",
      "1122/1122 [==============================] - ETA: 0s - loss: 7.8794e-04 - accuracy: 1.0000\n",
      "Epoch 00014: val_accuracy did not improve from 0.99197\n",
      "1122/1122 [==============================] - 683s 609ms/step - loss: 7.8794e-04 - accuracy: 1.0000 - val_loss: 0.0297 - val_accuracy: 0.9913\n",
      "Epoch 15/25\n",
      "1122/1122 [==============================] - ETA: 0s - loss: 6.2576e-04 - accuracy: 1.0000\n",
      "Epoch 00015: val_accuracy did not improve from 0.99197\n",
      "1122/1122 [==============================] - 684s 610ms/step - loss: 6.2576e-04 - accuracy: 1.0000 - val_loss: 0.0293 - val_accuracy: 0.9900\n",
      "Epoch 16/25\n",
      "1122/1122 [==============================] - ETA: 0s - loss: 8.7014e-04 - accuracy: 0.9999\n",
      "Epoch 00016: val_accuracy did not improve from 0.99197\n",
      "1122/1122 [==============================] - 690s 615ms/step - loss: 8.7014e-04 - accuracy: 0.9999 - val_loss: 0.0273 - val_accuracy: 0.9918\n",
      "Epoch 17/25\n",
      "1122/1122 [==============================] - ETA: 0s - loss: 4.7283e-04 - accuracy: 1.0000\n",
      "Epoch 00017: val_accuracy did not improve from 0.99197\n",
      "1122/1122 [==============================] - 691s 616ms/step - loss: 4.7283e-04 - accuracy: 1.0000 - val_loss: 0.0273 - val_accuracy: 0.9918\n",
      "Epoch 18/25\n",
      "1122/1122 [==============================] - ETA: 0s - loss: 4.1610e-04 - accuracy: 1.0000\n",
      "Epoch 00018: val_accuracy did not improve from 0.99197\n",
      "1122/1122 [==============================] - 695s 619ms/step - loss: 4.1610e-04 - accuracy: 1.0000 - val_loss: 0.0294 - val_accuracy: 0.9920\n",
      "Epoch 19/25\n",
      "1122/1122 [==============================] - ETA: 0s - loss: 3.9169e-04 - accuracy: 1.0000\n",
      "Epoch 00019: val_accuracy did not improve from 0.99197\n",
      "1122/1122 [==============================] - 692s 617ms/step - loss: 3.9169e-04 - accuracy: 1.0000 - val_loss: 0.0275 - val_accuracy: 0.9918\n",
      "Epoch 20/25\n",
      "1122/1122 [==============================] - ETA: 0s - loss: 3.4168e-04 - accuracy: 1.0000\n",
      "Epoch 00020: val_accuracy did not improve from 0.99197\n",
      "1122/1122 [==============================] - 697s 622ms/step - loss: 3.4168e-04 - accuracy: 1.0000 - val_loss: 0.0282 - val_accuracy: 0.9920\n",
      "Epoch 21/25\n",
      "1122/1122 [==============================] - ETA: 0s - loss: 3.2698e-04 - accuracy: 1.0000\n",
      "Epoch 00021: val_accuracy did not improve from 0.99197\n",
      "1122/1122 [==============================] - 690s 615ms/step - loss: 3.2698e-04 - accuracy: 1.0000 - val_loss: 0.0283 - val_accuracy: 0.9918\n",
      "Epoch 22/25\n",
      "1122/1122 [==============================] - ETA: 0s - loss: 3.0352e-04 - accuracy: 1.0000\n",
      "Epoch 00022: val_accuracy improved from 0.99197 to 0.99242, saving model to C:\\Users\\hp\\Desktop\\car\\Distracted-Driver-Detection-master\\data\\model\\vgg19_fine_tuned\\distracted-22-0.99.hdf5\n",
      "1122/1122 [==============================] - 689s 614ms/step - loss: 3.0352e-04 - accuracy: 1.0000 - val_loss: 0.0289 - val_accuracy: 0.9924\n",
      "Epoch 23/25\n",
      "1122/1122 [==============================] - ETA: 0s - loss: 2.7930e-04 - accuracy: 1.0000\n",
      "Epoch 00023: val_accuracy did not improve from 0.99242\n",
      "1122/1122 [==============================] - 689s 614ms/step - loss: 2.7930e-04 - accuracy: 1.0000 - val_loss: 0.0288 - val_accuracy: 0.9918\n"
     ]
    },
    {
     "name": "stdout",
     "output_type": "stream",
     "text": [
      "Epoch 24/25\n",
      "1122/1122 [==============================] - ETA: 0s - loss: 2.6314e-04 - accuracy: 1.0000\n",
      "Epoch 00024: val_accuracy did not improve from 0.99242\n",
      "1122/1122 [==============================] - 688s 613ms/step - loss: 2.6314e-04 - accuracy: 1.0000 - val_loss: 0.0290 - val_accuracy: 0.9915\n",
      "Epoch 25/25\n",
      "1122/1122 [==============================] - ETA: 0s - loss: 2.4978e-04 - accuracy: 1.0000\n",
      "Epoch 00025: val_accuracy did not improve from 0.99242\n",
      "1122/1122 [==============================] - 689s 614ms/step - loss: 2.4978e-04 - accuracy: 1.0000 - val_loss: 0.0280 - val_accuracy: 0.9918\n"
     ]
    }
   ],
   "source": [
    "model_history = vgg19_model_fine_tuned.fit(train_tensors,ytrain,validation_data = (valid_tensors, ytest),epochs=25, batch_size=16, shuffle=True,callbacks=callbacks_list)"
   ]
  },
  {
   "cell_type": "code",
   "execution_count": 21,
   "metadata": {},
   "outputs": [
    {
     "data": {
      "image/png": "[encoded data removed]",
      "text/plain": [
       "<Figure size 864x864 with 2 Axes>"
      ]
     },
     "metadata": {
      "needs_background": "light"
     },
     "output_type": "display_data"
    }
   ],
   "source": [
    "fig, (ax1, ax2) = plt.subplots(2, 1, figsize=(12, 12))\n",
    "ax1.plot(model_history.history['loss'], color='b', label=\"Training loss\")\n",
    "ax1.plot(model_history.history['val_loss'], color='r', label=\"validation loss\")\n",
    "ax1.set_xticks(np.arange(1, 25, 1))\n",
    "ax1.set_yticks(np.arange(0, 1, 0.1))\n",
    "\n",
    "ax2.plot(model_history.history['accuracy'], color='b', label=\"Training accuracy\")\n",
    "ax2.plot(model_history.history['val_accuracy'], color='r',label=\"Validation accuracy\")\n",
    "ax2.set_xticks(np.arange(1, 25, 1))\n",
    "\n",
    "legend = plt.legend(loc='best', shadow=True)\n",
    "plt.tight_layout()\n",
    "plt.show()"
   ]
  },
  {
   "cell_type": "markdown",
   "metadata": {},
   "source": [
    "# Model Analysis\n",
    "Finding the Confusion matrix,Precision,Recall and F1 score to analyse the model thus created"
   ]
  },
  {
   "cell_type": "code",
   "execution_count": 22,
   "metadata": {},
   "outputs": [],
   "source": [
    "def print_confusion_matrix(confusion_matrix, class_names, figsize = (10,7), fontsize=14):\n",
    "    df_cm = pd.DataFrame(\n",
    "        confusion_matrix, index=class_names, columns=class_names, \n",
    "    )\n",
    "    fig = plt.figure(figsize=figsize)\n",
    "    try:\n",
    "        heatmap = sns.heatmap(df_cm, annot=True, fmt=\"d\")\n",
    "    except ValueError:\n",
    "        raise ValueError(\"Confusion matrix values must be integers.\")\n",
    "    heatmap.yaxis.set_ticklabels(heatmap.yaxis.get_ticklabels(), rotation=0, ha='right', fontsize=fontsize)\n",
    "    heatmap.xaxis.set_ticklabels(heatmap.xaxis.get_ticklabels(), rotation=45, ha='right', fontsize=fontsize)\n",
    "    plt.ylabel('True label')\n",
    "    plt.xlabel('Predicted label')\n",
    "    fig.savefig(os.path.join(MODEL_PATH,\"confusion_matrixvgg19tunned.png\"))\n",
    "    return fig"
   ]
  },
  {
   "cell_type": "code",
   "execution_count": 23,
   "metadata": {},
   "outputs": [],
   "source": [
    "def print_heatmap(n_labels, n_predictions, class_names):\n",
    "    labels = n_labels #sess.run(tf.argmax(n_labels, 1))\n",
    "    predictions = n_predictions #sess.run(tf.argmax(n_predictions, 1))\n",
    "\n",
    "#     confusion_matrix = sess.run(tf.contrib.metrics.confusion_matrix(labels, predictions))\n",
    "    matrix = confusion_matrix(labels.argmax(axis=1),predictions.argmax(axis=1))\n",
    "    row_sum = np.sum(matrix, axis = 1)\n",
    "    w, h = matrix.shape\n",
    "\n",
    "    c_m = np.zeros((w, h))\n",
    "\n",
    "    for i in range(h):\n",
    "        c_m[i] = matrix[i] * 100 / row_sum[i]\n",
    "\n",
    "    c = c_m.astype(dtype = np.uint8)\n",
    "\n",
    "    \n",
    "    heatmap = print_confusion_matrix(c, class_names, figsize=(18,10), fontsize=20)"
   ]
  },
  {
   "cell_type": "code",
   "execution_count": 24,
   "metadata": {},
   "outputs": [
    {
     "name": "stdout",
     "output_type": "stream",
     "text": [
      "141/141 [==============================] - 76s 539ms/step\n"
     ]
    }
   ],
   "source": [
    "class_names = list()\n",
    "for name,idx in labels_id.items():\n",
    "    class_names.append(name)\n",
    "# print(class_names)\n",
    "ypred = vgg19_model_fine_tuned.predict(valid_tensors,verbose=1)"
   ]
  },
  {
   "cell_type": "code",
   "execution_count": 25,
   "metadata": {},
   "outputs": [
    {
     "data": {
      "image/png": "[encoded data removed]",
      "text/plain": [
       "<Figure size 1296x720 with 2 Axes>"
      ]
     },
     "metadata": {
      "needs_background": "light"
     },
     "output_type": "display_data"
    }
   ],
   "source": [
    "print_heatmap(ytest,ypred,class_names)"
   ]
  },
  {
   "cell_type": "markdown",
   "metadata": {},
   "source": [
    "# Precision Recall F1 Score"
   ]
  },
  {
   "cell_type": "code",
   "execution_count": 26,
   "metadata": {},
   "outputs": [],
   "source": [
    "ypred_class = np.argmax(ypred,axis=1)\n",
    "# print(ypred_class[:10])\n",
    "ytest = np.argmax(ytest,axis=1)"
   ]
  },
  {
   "cell_type": "code",
   "execution_count": 27,
   "metadata": {},
   "outputs": [
    {
     "name": "stdout",
     "output_type": "stream",
     "text": [
      "Accuracy: 0.991750\n",
      "Precision: 0.991785\n",
      "Recall: 0.991750\n",
      "F1 score: 0.991752\n"
     ]
    }
   ],
   "source": [
    "accuracy = accuracy_score(ytest,ypred_class)\n",
    "print('Accuracy: %f' % accuracy)\n",
    "# precision tp / (tp + fp)\n",
    "precision = precision_score(ytest, ypred_class,average='weighted')\n",
    "print('Precision: %f' % precision)\n",
    "# recall: tp / (tp + fn)\n",
    "recall = recall_score(ytest,ypred_class,average='weighted')\n",
    "print('Recall: %f' % recall)\n",
    "# f1: 2 tp / (2 tp + fp + fn)\n",
    "f1 = f1_score(ytest,ypred_class,average='weighted')\n",
    "print('F1 score: %f' % f1)"
   ]
  },
  {
   "cell_type": "code",
   "execution_count": null,
   "metadata": {},
   "outputs": [],
   "source": []
  }
 ],
 "metadata": {
  "kernelspec": {
   "display_name": "Python 3",
   "language": "python",
   "name": "python3"
  },
  "language_info": {
   "codemirror_mode": {
    "name": "ipython",
    "version": 3
   },
   "file_extension": ".py",
   "mimetype": "text/x-python",
   "name": "python",
   "nbconvert_exporter": "python",
   "pygments_lexer": "ipython3",
   "version": "3.8.8"
  }
 },
 "nbformat": 4,
 "nbformat_minor": 4
}
